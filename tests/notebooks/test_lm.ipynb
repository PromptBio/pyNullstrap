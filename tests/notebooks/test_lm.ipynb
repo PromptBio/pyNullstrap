{
 "cells": [
  {
   "cell_type": "code",
   "execution_count": null,
   "id": "21c5ef63",
   "metadata": {},
   "outputs": [
    {
     "name": "stdout",
     "output_type": "stream",
     "text": [
      "Data shape: X=(500, 200), y=(500,)\n",
      "True signal indices: [ 0  1  2  3  4  5  6  7  8  9 10 11 12 13 14 15 16 17 18 19 20 21 22 23\n",
      " 24 25 26 27 28 29]\n",
      "Number of true signals: 30\n",
      "y range: [-5.483, 6.692]\n",
      "y mean: -0.000000 (should be ~0)\n"
     ]
    }
   ],
   "source": [
    "# R to Python conversion of simulation setup\n",
    "import numpy as np\n",
    "from scipy.stats import multivariate_normal\n",
    "from sklearn.preprocessing import StandardScaler\n",
    "\n",
    "# Set parameters (matching R code exactly)\n",
    "n = 500\n",
    "p = 200\n",
    "nonzero_coefs = 30\n",
    "Amp = 0.25\n",
    "rho = 0.6\n",
    "\n",
    "# Generate Toeplitz correlation matrix (equivalent to toeplitz(rho^(0:(p-1))))\n",
    "Theta_8 = np.array([[rho**abs(i-j) for j in range(p)] for i in range(p)])\n",
    "\n",
    "# Generate X from multivariate normal (equivalent to mvrnorm)\n",
    "X = multivariate_normal.rvs(mean=np.zeros(p), cov=Theta_8, size=n, random_state=42)\n",
    "\n",
    "# Scale X (equivalent to scale(X))\n",
    "X = StandardScaler().fit_transform(X)\n",
    "\n",
    "# Generate true coefficients (equivalent to beta setup)\n",
    "beta = np.zeros(p)\n",
    "beta[:nonzero_coefs] = np.random.choice([-Amp, Amp], size=nonzero_coefs, replace=True)\n",
    "\n",
    "# Signal indices (equivalent to Signal_index <- 1:nonzero_coefs)\n",
    "Signal_index = np.arange(nonzero_coefs)  # 0-indexed in Python vs 1-indexed in R\n",
    "\n",
    "# True labels (equivalent to true_labels <- beta != 0)\n",
    "true_labels = beta != 0\n",
    "\n",
    "# Generate response (equivalent to y <- X %*% beta + rnorm(n))\n",
    "y = X @ beta + np.random.normal(0, 1, n)\n",
    "\n",
    "# Center y (equivalent to y <- y - mean(y))\n",
    "y = y - np.mean(y)\n",
    "\n",
    "print(f\"Data shape: X={X.shape}, y={y.shape}\")\n",
    "print(f\"True signal indices: {Signal_index}\")\n",
    "print(f\"Number of true signals: {np.sum(true_labels)}\")\n",
    "print(f\"y range: [{np.min(y):.3f}, {np.max(y):.3f}]\")\n",
    "print(f\"y mean: {np.mean(y):.6f} (should be ~0)\")"
   ]
  },
  {
   "cell_type": "code",
   "execution_count": 6,
   "id": "946783bc",
   "metadata": {},
   "outputs": [
    {
     "name": "stdout",
     "output_type": "stream",
     "text": [
      "Threshold: 0.10795775974834527\n",
      "Selected features: [ 0  1  2  3  4  5  6  7  8  9 10 11 12 13 14 15 16 17 18 21 22 24 25 26\n",
      " 27 28 29]\n",
      "Number selected: 27\n",
      "Correction factor: 0.22865450128243625\n",
      "Alpha used: 0.02549875099838858\n"
     ]
    }
   ],
   "source": [
    "from nullstrap.models.lm import NullstrapLM\n",
    "\n",
    "# After the simulation code above...\n",
    "\n",
    "# Initialize Nullstrap\n",
    "model = NullstrapLM(\n",
    "    fdr=0.1,           # Target FDR\n",
    "    alpha_=None,       # Auto-select alpha (regularization parameter)\n",
    "    B_reps=5,          # Bootstrap repetitions\n",
    "    random_state=42    # For reproducibility\n",
    ")\n",
    "\n",
    "# Fit the model\n",
    "model.fit(X, y)\n",
    "\n",
    "# Get results\n",
    "threshold = model.threshold_\n",
    "selected_features = model.selected_\n",
    "statistics = model.statistic_\n",
    "correction_factor = model.correction_factor_\n",
    "alpha_used = model.alpha_used_\n",
    "\n",
    "print(f\"Threshold: {threshold}\")\n",
    "print(f\"Selected features: {selected_features}\")\n",
    "print(f\"Number selected: {len(selected_features)}\")\n",
    "print(f\"Correction factor: {correction_factor}\")\n",
    "print(f\"Alpha used: {alpha_used}\")"
   ]
  },
  {
   "cell_type": "code",
   "execution_count": 7,
   "id": "7b27257c",
   "metadata": {},
   "outputs": [
    {
     "name": "stdout",
     "output_type": "stream",
     "text": [
      "Lasso selected features: [  0   1   2   3   4   5   6   7   8   9  10  11  12  13  14  15  16  17\n",
      "  18  20  21  22  24  25  26  27  28  29  32  45  53  60  62  64  74  79\n",
      "  84  87  94  97 104 107 112 121 123 124 125 136 142 146 149 155 174 177\n",
      " 178 195 199]\n",
      "Number selected by Lasso: 57\n",
      "Lasso alpha (lambda) used: 0.044355026497695405\n"
     ]
    }
   ],
   "source": [
    "from sklearn.linear_model import LassoCV\n",
    "import numpy as np\n",
    "\n",
    "# Fit Lasso with cross-validation to select lambda\n",
    "lasso = LassoCV(cv=5, random_state=42).fit(X, y)\n",
    "\n",
    "# Get the coefficients\n",
    "lasso_coef = lasso.coef_\n",
    "\n",
    "# Select features with nonzero coefficients\n",
    "lasso_selected = np.where(lasso_coef != 0)[0]\n",
    "\n",
    "print(f\"Lasso selected features: {lasso_selected}\")\n",
    "print(f\"Number selected by Lasso: {len(lasso_selected)}\")\n",
    "print(f\"Lasso alpha (lambda) used: {lasso.alpha_}\")"
   ]
  },
  {
   "cell_type": "code",
   "execution_count": 8,
   "id": "9d53f98d",
   "metadata": {},
   "outputs": [
    {
     "name": "stdout",
     "output_type": "stream",
     "text": [
      "Nullstrap Power: 0.900\n",
      "Nullstrap FDR: 0.000\n",
      "Lasso Power: 0.933\n",
      "Lasso FDR: 0.509\n"
     ]
    }
   ],
   "source": [
    "from nullstrap.utils.metrics import compute_power, compute_fdr\n",
    "\n",
    "# Compute true support\n",
    "true_support = np.where(beta != 0)[0]\n",
    "\n",
    "# Nullstrap results\n",
    "nullstrap_power = compute_power(selected_features, true_support)\n",
    "nullstrap_fdr = compute_fdr(selected_features, true_support, p) \n",
    "print(f\"Nullstrap Power: {nullstrap_power:.3f}\")\n",
    "print(f\"Nullstrap FDR: {nullstrap_fdr:.3f}\")\n",
    "\n",
    "# Lasso results\n",
    "lasso_power = compute_power(lasso_selected, true_support)\n",
    "lasso_fdr = compute_fdr(lasso_selected, true_support, p)\n",
    "print(f\"Lasso Power: {lasso_power:.3f}\")\n",
    "print(f\"Lasso FDR: {lasso_fdr:.3f}\")"
   ]
  }
 ],
 "metadata": {
  "kernelspec": {
   "display_name": "dev",
   "language": "python",
   "name": "python3"
  },
  "language_info": {
   "codemirror_mode": {
    "name": "ipython",
    "version": 3
   },
   "file_extension": ".py",
   "mimetype": "text/x-python",
   "name": "python",
   "nbconvert_exporter": "python",
   "pygments_lexer": "ipython3",
   "version": "3.12.0"
  }
 },
 "nbformat": 4,
 "nbformat_minor": 5
}
