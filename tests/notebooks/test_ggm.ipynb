{
 "cells": [
  {
   "cell_type": "code",
   "execution_count": 1,
   "id": "0e641ff3",
   "metadata": {},
   "outputs": [
    {
     "name": "stdout",
     "output_type": "stream",
     "text": [
      "Data shape: X=(2000, 200)\n",
      "Graph type: band\n",
      "Total edges: 19900\n",
      "True signal edges: 1945\n",
      "Sparsity: 0.098\n"
     ]
    }
   ],
   "source": [
    "# R to Python conversion of GGM simulation setup\n",
    "import numpy as np\n",
    "\n",
    "# Set parameters (matching R code)\n",
    "n = 2000\n",
    "p = 200\n",
    "edge_strength = -0.8\n",
    "graph_type = \"band\"\n",
    "\n",
    "def generate_precision_matrix(p, b, graph_type, random_state=None):\n",
    "    \"\"\"Generate precision matrix for different graph structures.\"\"\"\n",
    "    if random_state is not None:\n",
    "        np.random.seed(random_state)\n",
    "    \n",
    "    Omega_0 = np.zeros((p, p))\n",
    "    \n",
    "    if graph_type == \"band\":\n",
    "        np.fill_diagonal(Omega_0, 1)\n",
    "        for i in range(p - 1):\n",
    "            for j in range(i + 1, min(p, i + 11)):\n",
    "                Omega_0[i, j] = np.sign(b) * np.abs(b) ** (abs(i - j) / 10)\n",
    "                Omega_0[j, i] = Omega_0[i, j]\n",
    "    elif graph_type == \"block\":\n",
    "        for k in range(0, p, 20):\n",
    "            block_size = min(20, p - k)\n",
    "            Omega_0[k:k+block_size, k:k+block_size] = b\n",
    "            np.fill_diagonal(Omega_0[k:k+block_size, k:k+block_size], 1)\n",
    "    elif graph_type == \"erdos\":\n",
    "        np.fill_diagonal(Omega_0, 1)\n",
    "        for i in range(p - 1):\n",
    "            for j in range(i + 1, p):\n",
    "                if np.random.binomial(1, 0.1):\n",
    "                    phi_ij = np.random.uniform(-0.6, -0.2) if np.random.rand() < 0.5 else np.random.uniform(0.2, 0.6)\n",
    "                    Omega_0[i, j] = Omega_0[j, i] = phi_ij\n",
    "    elif graph_type == \"cluster\":\n",
    "        for k in range(0, p, 40):\n",
    "            block_size = min(40, p - k)\n",
    "            np.fill_diagonal(Omega_0[k:k+block_size, k:k+block_size], 1)\n",
    "            for i in range(k, k + block_size - 1):\n",
    "                for j in range(i + 1, k + block_size):\n",
    "                    if np.random.binomial(1, 0.5):\n",
    "                        phi_ij = np.random.uniform(-0.6, -0.2) if np.random.rand() < 0.5 else np.random.uniform(0.2, 0.6)\n",
    "                        Omega_0[i, j] = Omega_0[j, i] = phi_ij\n",
    "    \n",
    "    eigenvals = np.linalg.eigvals(Omega_0)\n",
    "    lambda_min = np.min(eigenvals)\n",
    "    Omega = Omega_0 + (abs(lambda_min) + 0.5) * np.eye(p)\n",
    "    return Omega\n",
    "\n",
    "Omega = generate_precision_matrix(p, edge_strength, graph_type, random_state=42)\n",
    "true_support = (np.abs(Omega) > 1e-10).astype(int)\n",
    "upper_tri_mask = np.triu(np.ones_like(true_support), k=1).astype(bool)\n",
    "true_labels = true_support[upper_tri_mask]\n",
    "Signal_index = np.where(true_labels == 1)[0]\n",
    "\n",
    "np.random.seed(42)\n",
    "Sigma = np.linalg.inv(Omega)\n",
    "X = np.random.multivariate_normal(np.zeros(p), Sigma, size=n)\n",
    "X = (X - X.mean(axis=0)) / X.std(axis=0)\n",
    "\n",
    "print(f\"Data shape: X={X.shape}\")\n",
    "print(f\"Graph type: {graph_type}\")\n",
    "print(f\"Total edges: {p * (p - 1) // 2}\")\n",
    "print(f\"True signal edges: {len(Signal_index)}\")\n",
    "print(f\"Sparsity: {len(Signal_index) / (p * (p - 1) // 2):.3f}\")\n"
   ]
  },
  {
   "cell_type": "code",
   "execution_count": 2,
   "id": "56990a38",
   "metadata": {},
   "outputs": [
    {
     "name": "stdout",
     "output_type": "stream",
     "text": [
      "Threshold: 0.0702217809582559\n",
      "Selected edges: [   0    3    8  398  399  400  404  406  597  598  599  600  790  794\n",
      "  813  990 1179 1181 1184 1188]...\n",
      "Number selected: 956\n",
      "Correction factor: 0.050000009863306466\n",
      "Alpha used: 0.01778240153111564\n"
     ]
    }
   ],
   "source": [
    "from nullstrap.models.ggm import NullstrapGGM\n",
    "\n",
    "model = NullstrapGGM(\n",
    "    fdr=0.1,\n",
    "    alpha_=None,\n",
    "    B_reps=5,\n",
    "    selection_method='cv',\n",
    "    random_state=42\n",
    ")\n",
    "\n",
    "model.fit(X)\n",
    "\n",
    "print(f\"Threshold: {model.threshold_}\")\n",
    "print(f\"Selected edges: {model.selected_[:20]}...\")\n",
    "print(f\"Number selected: {len(model.selected_)}\")\n",
    "print(f\"Correction factor: {model.correction_factor_}\")\n",
    "print(f\"Alpha used: {model.alpha_used_}\")\n"
   ]
  },
  {
   "cell_type": "code",
   "execution_count": 3,
   "id": "cffd4902",
   "metadata": {},
   "outputs": [
    {
     "name": "stdout",
     "output_type": "stream",
     "text": [
      "GraphicalLasso selected: [  0   3   5   7   8   9 199 200 201 203 204 205 206 207 208 212 398 399\n",
      " 400 401]...\n",
      "Number selected: 2404\n",
      "Alpha used: 0.0992248470233921\n"
     ]
    },
    {
     "name": "stderr",
     "output_type": "stream",
     "text": [
      "/home/wbguo/apps/anaconda3/envs/dev/lib/python3.12/site-packages/numpy/core/_methods.py:173: RuntimeWarning: invalid value encountered in subtract\n",
      "  x = asanyarray(arr - arrmean)\n"
     ]
    }
   ],
   "source": [
    "from sklearn.covariance import GraphicalLassoCV\n",
    "\n",
    "glasso = GraphicalLassoCV(cv=5).fit(X)\n",
    "glasso_precision = glasso.precision_\n",
    "upper_tri_indices = np.triu_indices(p, k=1)\n",
    "glasso_edges = np.abs(glasso_precision[upper_tri_indices]) > 1e-6\n",
    "glasso_selected = np.where(glasso_edges)[0]\n",
    "\n",
    "print(f\"GraphicalLasso selected: {glasso_selected[:20]}...\")\n",
    "print(f\"Number selected: {len(glasso_selected)}\")\n",
    "print(f\"Alpha used: {glasso.alpha_}\")\n"
   ]
  },
  {
   "cell_type": "code",
   "execution_count": 4,
   "id": "83cbb410",
   "metadata": {},
   "outputs": [
    {
     "name": "stdout",
     "output_type": "stream",
     "text": [
      "Nullstrap GGM Power: 0.485\n",
      "Nullstrap GGM FDR: 0.014\n",
      "GraphicalLasso Power: 0.980\n",
      "GraphicalLasso FDR: 0.207\n"
     ]
    }
   ],
   "source": [
    "from nullstrap.utils.metrics import compute_fdr, compute_power\n",
    "\n",
    "# Nullstrap GGM metrics\n",
    "nullstrap_fdr = compute_fdr(model.selected_, Signal_index, len(true_labels))\n",
    "nullstrap_power = compute_power(model.selected_, Signal_index)\n",
    "\n",
    "print(f\"Nullstrap GGM Power: {nullstrap_power:.3f}\")\n",
    "print(f\"Nullstrap GGM FDR: {nullstrap_fdr:.3f}\")\n",
    "\n",
    "# GraphicalLasso metrics\n",
    "glasso_fdr = compute_fdr(glasso_selected, Signal_index, len(true_labels))\n",
    "glasso_power = compute_power(glasso_selected, Signal_index)\n",
    "\n",
    "print(f\"GraphicalLasso Power: {glasso_power:.3f}\")\n",
    "print(f\"GraphicalLasso FDR: {glasso_fdr:.3f}\")\n"
   ]
  }
 ],
 "metadata": {
  "kernelspec": {
   "display_name": "dev",
   "language": "python",
   "name": "python3"
  },
  "language_info": {
   "codemirror_mode": {
    "name": "ipython",
    "version": 3
   },
   "file_extension": ".py",
   "mimetype": "text/x-python",
   "name": "python",
   "nbconvert_exporter": "python",
   "pygments_lexer": "ipython3",
   "version": "3.12.0"
  }
 },
 "nbformat": 4,
 "nbformat_minor": 5
}
